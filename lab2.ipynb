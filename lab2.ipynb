{
  "cells": [
    {
      "cell_type": "markdown",
      "metadata": {
        "id": "view-in-github",
        "colab_type": "text"
      },
      "source": [
        "<a href=\"https://colab.research.google.com/github/ctt2136/Python-for-finance/blob/main/lab2.ipynb\" target=\"_parent\"><img src=\"https://colab.research.google.com/assets/colab-badge.svg\" alt=\"Open In Colab\"/></a>"
      ]
    },
    {
      "cell_type": "markdown",
      "metadata": {
        "id": "yuXO7Jdb_Khi"
      },
      "source": [
        "# Import libraries"
      ]
    },
    {
      "cell_type": "code",
      "source": [
        "# install mplfinance\n",
        "!pip install mplfinance"
      ],
      "metadata": {
        "id": "uByMVGy84Hf9",
        "colab": {
          "base_uri": "https://localhost:8080/"
        },
        "outputId": "649d1d39-d4e0-4f7f-e509-5cad7422eb62"
      },
      "execution_count": 2,
      "outputs": [
        {
          "output_type": "stream",
          "name": "stdout",
          "text": [
            "Collecting mplfinance\n",
            "  Downloading mplfinance-0.12.10b0-py3-none-any.whl.metadata (19 kB)\n",
            "Requirement already satisfied: matplotlib in /usr/local/lib/python3.12/dist-packages (from mplfinance) (3.10.0)\n",
            "Requirement already satisfied: pandas in /usr/local/lib/python3.12/dist-packages (from mplfinance) (2.2.2)\n",
            "Requirement already satisfied: contourpy>=1.0.1 in /usr/local/lib/python3.12/dist-packages (from matplotlib->mplfinance) (1.3.3)\n",
            "Requirement already satisfied: cycler>=0.10 in /usr/local/lib/python3.12/dist-packages (from matplotlib->mplfinance) (0.12.1)\n",
            "Requirement already satisfied: fonttools>=4.22.0 in /usr/local/lib/python3.12/dist-packages (from matplotlib->mplfinance) (4.60.0)\n",
            "Requirement already satisfied: kiwisolver>=1.3.1 in /usr/local/lib/python3.12/dist-packages (from matplotlib->mplfinance) (1.4.9)\n",
            "Requirement already satisfied: numpy>=1.23 in /usr/local/lib/python3.12/dist-packages (from matplotlib->mplfinance) (2.0.2)\n",
            "Requirement already satisfied: packaging>=20.0 in /usr/local/lib/python3.12/dist-packages (from matplotlib->mplfinance) (25.0)\n",
            "Requirement already satisfied: pillow>=8 in /usr/local/lib/python3.12/dist-packages (from matplotlib->mplfinance) (11.3.0)\n",
            "Requirement already satisfied: pyparsing>=2.3.1 in /usr/local/lib/python3.12/dist-packages (from matplotlib->mplfinance) (3.2.4)\n",
            "Requirement already satisfied: python-dateutil>=2.7 in /usr/local/lib/python3.12/dist-packages (from matplotlib->mplfinance) (2.9.0.post0)\n",
            "Requirement already satisfied: pytz>=2020.1 in /usr/local/lib/python3.12/dist-packages (from pandas->mplfinance) (2025.2)\n",
            "Requirement already satisfied: tzdata>=2022.7 in /usr/local/lib/python3.12/dist-packages (from pandas->mplfinance) (2025.2)\n",
            "Requirement already satisfied: six>=1.5 in /usr/local/lib/python3.12/dist-packages (from python-dateutil>=2.7->matplotlib->mplfinance) (1.17.0)\n",
            "Downloading mplfinance-0.12.10b0-py3-none-any.whl (75 kB)\n",
            "\u001b[2K   \u001b[90m━━━━━━━━━━━━━━━━━━━━━━━━━━━━━━━━━━━━━━━━\u001b[0m \u001b[32m75.0/75.0 kB\u001b[0m \u001b[31m3.2 MB/s\u001b[0m eta \u001b[36m0:00:00\u001b[0m\n",
            "\u001b[?25hInstalling collected packages: mplfinance\n",
            "Successfully installed mplfinance-0.12.10b0\n"
          ]
        }
      ]
    },
    {
      "cell_type": "code",
      "execution_count": 3,
      "metadata": {
        "id": "M0MLCX6Z_Khl"
      },
      "outputs": [],
      "source": [
        "import pandas as pd\n",
        "import matplotlib.pyplot as plt\n",
        "import seaborn as sns\n",
        "import mplfinance as mpl"
      ]
    },
    {
      "cell_type": "markdown",
      "metadata": {
        "id": "A5km2G3G_Khn"
      },
      "source": [
        "# Check files on disk\n",
        "* Go to https://www.kaggle.com/datasets/adhoppin/financial-data?resource=download and download the data.\n",
        "* Extract the data in your folder, or updload it on Google Colab.\n",
        "    * You can directly upload a 'zip' file on Google Drive.\n",
        "    * Then, you'll have to mount google drive, find the correct folder and unzip the file\n",
        "    * You can achieve this by  adapting the following code"
      ]
    },
    {
      "cell_type": "code",
      "source": [
        "from google.colab import drive\n",
        "drive.mount('/content/drive')"
      ],
      "metadata": {
        "colab": {
          "base_uri": "https://localhost:8080/"
        },
        "id": "LRe042tG5irI",
        "outputId": "7675accc-b315-4f2d-83f2-4692bf2663cc"
      },
      "execution_count": 4,
      "outputs": [
        {
          "output_type": "stream",
          "name": "stdout",
          "text": [
            "Mounted at /content/drive\n"
          ]
        }
      ]
    },
    {
      "cell_type": "code",
      "execution_count": 5,
      "metadata": {
        "id": "Z5rOSr0Z_Khp",
        "colab": {
          "base_uri": "https://localhost:8080/"
        },
        "outputId": "a4be537a-62cf-4f46-e87f-56cda4c6a074"
      },
      "outputs": [
        {
          "output_type": "stream",
          "name": "stdout",
          "text": [
            "Drive already mounted at /content/drive; to attempt to forcibly remount, call drive.mount(\"/content/drive\", force_remount=True).\n",
            "drive  sample_data\n"
          ]
        }
      ],
      "source": [
        "# Mount your google drive\n",
        "from google.colab import drive\n",
        "drive.mount('/content/drive')\n",
        "!ls\n"
      ]
    },
    {
      "cell_type": "code",
      "source": [
        "!unzip drive/MyDrive/archive.zip"
      ],
      "metadata": {
        "id": "Uq2N2aJbXACM",
        "colab": {
          "base_uri": "https://localhost:8080/"
        },
        "outputId": "15e229c2-e7cc-4f4e-ff38-7ab62a4fff92"
      },
      "execution_count": 6,
      "outputs": [
        {
          "output_type": "stream",
          "name": "stdout",
          "text": [
            "unzip:  cannot find or open drive/MyDrive/archive.zip, drive/MyDrive/archive.zip.zip or drive/MyDrive/archive.zip.ZIP.\n"
          ]
        }
      ]
    },
    {
      "cell_type": "code",
      "source": [
        "import os\n",
        "dirpath='./drive/MyDrive/Financial_Data/stocks'\n",
        "for dirname, _, filenames in os.walk(dirpath): # for each directory in current folder (./)+path\n",
        "    for filename in filenames: # for each file in a directory\n",
        "        print(os.path.join(dirname, filename)) # print the directory/filename"
      ],
      "metadata": {
        "id": "69r61xKb44_r",
        "colab": {
          "base_uri": "https://localhost:8080/"
        },
        "outputId": "f3cab87d-9e8d-4131-9d29-a13ceb10e410"
      },
      "execution_count": 7,
      "outputs": [
        {
          "output_type": "stream",
          "name": "stdout",
          "text": [
            "./drive/MyDrive/Financial_Data/stocks/SBUX.csv\n",
            "./drive/MyDrive/Financial_Data/stocks/MSFT.csv\n",
            "./drive/MyDrive/Financial_Data/stocks/PEP.csv\n",
            "./drive/MyDrive/Financial_Data/stocks/QCOM.csv\n",
            "./drive/MyDrive/Financial_Data/stocks/PYPL.csv\n",
            "./drive/MyDrive/Financial_Data/stocks/TSLA.csv\n",
            "./drive/MyDrive/Financial_Data/stocks/AMZN.csv\n",
            "./drive/MyDrive/Financial_Data/stocks/ADBE.csv\n",
            "./drive/MyDrive/Financial_Data/stocks/NFLX.csv\n",
            "./drive/MyDrive/Financial_Data/stocks/GILD.csv\n",
            "./drive/MyDrive/Financial_Data/stocks/GOOGL.csv\n",
            "./drive/MyDrive/Financial_Data/stocks/AMGN.csv\n",
            "./drive/MyDrive/Financial_Data/stocks/AMD.csv\n",
            "./drive/MyDrive/Financial_Data/stocks/AAPL.csv\n",
            "./drive/MyDrive/Financial_Data/stocks/CMCSA.csv\n",
            "./drive/MyDrive/Financial_Data/stocks/NVDA.csv\n",
            "./drive/MyDrive/Financial_Data/stocks/CSCO.csv\n",
            "./drive/MyDrive/Financial_Data/stocks/INTC.csv\n",
            "./drive/MyDrive/Financial_Data/stocks/GOOG.csv\n",
            "./drive/MyDrive/Financial_Data/stocks/META.csv\n"
          ]
        }
      ]
    },
    {
      "cell_type": "markdown",
      "metadata": {
        "id": "UNu7vJWR_Khq"
      },
      "source": [
        "# Open a file as a pandas dataframe\n",
        "\n",
        "Pandas is very well documented, check here for a complete User Guide :\n",
        "\n",
        "https://pandas.pydata.org/docs/user_guide/index.html\n",
        "\n",
        "* Choose one stock file and open it as a DataFrame using the method pd.read_csv(filepath)"
      ]
    },
    {
      "cell_type": "code",
      "execution_count": 8,
      "metadata": {
        "id": "XBqOzuwK_Khr",
        "colab": {
          "base_uri": "https://localhost:8080/",
          "height": 424
        },
        "outputId": "6ef02545-c0bd-4445-d4bb-dd99faafcaee"
      },
      "outputs": [
        {
          "output_type": "execute_result",
          "data": {
            "text/plain": [
              "            Date        Open        High         Low       Close     Volume  \\\n",
              "0     2012-05-18   42.049999   45.000000   38.000000   38.230000  573576400   \n",
              "1     2012-05-21   36.529999   36.660000   33.000000   34.029999  168192700   \n",
              "2     2012-05-22   32.610001   33.590000   30.940001   31.000000  101786600   \n",
              "3     2012-05-23   31.370001   32.500000   31.360001   32.000000   73600000   \n",
              "4     2012-05-24   32.950001   33.209999   31.770000   33.029999   50237200   \n",
              "...          ...         ...         ...         ...         ...        ...   \n",
              "2778  2023-06-05  270.299988  275.570007  269.559998  271.390015   20742900   \n",
              "2779  2023-06-06  270.140015  276.570007  269.690002  271.119995   19419000   \n",
              "2780  2023-06-07  271.670013  274.250000  262.799988  263.600006   26163600   \n",
              "2781  2023-06-08  260.619995  267.649994  258.880005  264.579987   20899400   \n",
              "2782  2023-06-09  262.480011  267.950012  261.700012  264.950012   16938500   \n",
              "\n",
              "     Symbol  YTD Gains  \n",
              "0      META   0.000000  \n",
              "1      META  -0.109861  \n",
              "2      META  -0.189118  \n",
              "3      META  -0.162961  \n",
              "4      META  -0.136019  \n",
              "...     ...        ...  \n",
              "2778   META   6.098876  \n",
              "2779   META   6.091813  \n",
              "2780   META   5.895109  \n",
              "2781   META   5.920743  \n",
              "2782   META   5.930422  \n",
              "\n",
              "[2783 rows x 8 columns]"
            ],
            "text/html": [
              "\n",
              "  <div id=\"df-6643685b-e90f-49bd-985a-6795007f7496\" class=\"colab-df-container\">\n",
              "    <div>\n",
              "<style scoped>\n",
              "    .dataframe tbody tr th:only-of-type {\n",
              "        vertical-align: middle;\n",
              "    }\n",
              "\n",
              "    .dataframe tbody tr th {\n",
              "        vertical-align: top;\n",
              "    }\n",
              "\n",
              "    .dataframe thead th {\n",
              "        text-align: right;\n",
              "    }\n",
              "</style>\n",
              "<table border=\"1\" class=\"dataframe\">\n",
              "  <thead>\n",
              "    <tr style=\"text-align: right;\">\n",
              "      <th></th>\n",
              "      <th>Date</th>\n",
              "      <th>Open</th>\n",
              "      <th>High</th>\n",
              "      <th>Low</th>\n",
              "      <th>Close</th>\n",
              "      <th>Volume</th>\n",
              "      <th>Symbol</th>\n",
              "      <th>YTD Gains</th>\n",
              "    </tr>\n",
              "  </thead>\n",
              "  <tbody>\n",
              "    <tr>\n",
              "      <th>0</th>\n",
              "      <td>2012-05-18</td>\n",
              "      <td>42.049999</td>\n",
              "      <td>45.000000</td>\n",
              "      <td>38.000000</td>\n",
              "      <td>38.230000</td>\n",
              "      <td>573576400</td>\n",
              "      <td>META</td>\n",
              "      <td>0.000000</td>\n",
              "    </tr>\n",
              "    <tr>\n",
              "      <th>1</th>\n",
              "      <td>2012-05-21</td>\n",
              "      <td>36.529999</td>\n",
              "      <td>36.660000</td>\n",
              "      <td>33.000000</td>\n",
              "      <td>34.029999</td>\n",
              "      <td>168192700</td>\n",
              "      <td>META</td>\n",
              "      <td>-0.109861</td>\n",
              "    </tr>\n",
              "    <tr>\n",
              "      <th>2</th>\n",
              "      <td>2012-05-22</td>\n",
              "      <td>32.610001</td>\n",
              "      <td>33.590000</td>\n",
              "      <td>30.940001</td>\n",
              "      <td>31.000000</td>\n",
              "      <td>101786600</td>\n",
              "      <td>META</td>\n",
              "      <td>-0.189118</td>\n",
              "    </tr>\n",
              "    <tr>\n",
              "      <th>3</th>\n",
              "      <td>2012-05-23</td>\n",
              "      <td>31.370001</td>\n",
              "      <td>32.500000</td>\n",
              "      <td>31.360001</td>\n",
              "      <td>32.000000</td>\n",
              "      <td>73600000</td>\n",
              "      <td>META</td>\n",
              "      <td>-0.162961</td>\n",
              "    </tr>\n",
              "    <tr>\n",
              "      <th>4</th>\n",
              "      <td>2012-05-24</td>\n",
              "      <td>32.950001</td>\n",
              "      <td>33.209999</td>\n",
              "      <td>31.770000</td>\n",
              "      <td>33.029999</td>\n",
              "      <td>50237200</td>\n",
              "      <td>META</td>\n",
              "      <td>-0.136019</td>\n",
              "    </tr>\n",
              "    <tr>\n",
              "      <th>...</th>\n",
              "      <td>...</td>\n",
              "      <td>...</td>\n",
              "      <td>...</td>\n",
              "      <td>...</td>\n",
              "      <td>...</td>\n",
              "      <td>...</td>\n",
              "      <td>...</td>\n",
              "      <td>...</td>\n",
              "    </tr>\n",
              "    <tr>\n",
              "      <th>2778</th>\n",
              "      <td>2023-06-05</td>\n",
              "      <td>270.299988</td>\n",
              "      <td>275.570007</td>\n",
              "      <td>269.559998</td>\n",
              "      <td>271.390015</td>\n",
              "      <td>20742900</td>\n",
              "      <td>META</td>\n",
              "      <td>6.098876</td>\n",
              "    </tr>\n",
              "    <tr>\n",
              "      <th>2779</th>\n",
              "      <td>2023-06-06</td>\n",
              "      <td>270.140015</td>\n",
              "      <td>276.570007</td>\n",
              "      <td>269.690002</td>\n",
              "      <td>271.119995</td>\n",
              "      <td>19419000</td>\n",
              "      <td>META</td>\n",
              "      <td>6.091813</td>\n",
              "    </tr>\n",
              "    <tr>\n",
              "      <th>2780</th>\n",
              "      <td>2023-06-07</td>\n",
              "      <td>271.670013</td>\n",
              "      <td>274.250000</td>\n",
              "      <td>262.799988</td>\n",
              "      <td>263.600006</td>\n",
              "      <td>26163600</td>\n",
              "      <td>META</td>\n",
              "      <td>5.895109</td>\n",
              "    </tr>\n",
              "    <tr>\n",
              "      <th>2781</th>\n",
              "      <td>2023-06-08</td>\n",
              "      <td>260.619995</td>\n",
              "      <td>267.649994</td>\n",
              "      <td>258.880005</td>\n",
              "      <td>264.579987</td>\n",
              "      <td>20899400</td>\n",
              "      <td>META</td>\n",
              "      <td>5.920743</td>\n",
              "    </tr>\n",
              "    <tr>\n",
              "      <th>2782</th>\n",
              "      <td>2023-06-09</td>\n",
              "      <td>262.480011</td>\n",
              "      <td>267.950012</td>\n",
              "      <td>261.700012</td>\n",
              "      <td>264.950012</td>\n",
              "      <td>16938500</td>\n",
              "      <td>META</td>\n",
              "      <td>5.930422</td>\n",
              "    </tr>\n",
              "  </tbody>\n",
              "</table>\n",
              "<p>2783 rows × 8 columns</p>\n",
              "</div>\n",
              "    <div class=\"colab-df-buttons\">\n",
              "\n",
              "  <div class=\"colab-df-container\">\n",
              "    <button class=\"colab-df-convert\" onclick=\"convertToInteractive('df-6643685b-e90f-49bd-985a-6795007f7496')\"\n",
              "            title=\"Convert this dataframe to an interactive table.\"\n",
              "            style=\"display:none;\">\n",
              "\n",
              "  <svg xmlns=\"http://www.w3.org/2000/svg\" height=\"24px\" viewBox=\"0 -960 960 960\">\n",
              "    <path d=\"M120-120v-720h720v720H120Zm60-500h600v-160H180v160Zm220 220h160v-160H400v160Zm0 220h160v-160H400v160ZM180-400h160v-160H180v160Zm440 0h160v-160H620v160ZM180-180h160v-160H180v160Zm440 0h160v-160H620v160Z\"/>\n",
              "  </svg>\n",
              "    </button>\n",
              "\n",
              "  <style>\n",
              "    .colab-df-container {\n",
              "      display:flex;\n",
              "      gap: 12px;\n",
              "    }\n",
              "\n",
              "    .colab-df-convert {\n",
              "      background-color: #E8F0FE;\n",
              "      border: none;\n",
              "      border-radius: 50%;\n",
              "      cursor: pointer;\n",
              "      display: none;\n",
              "      fill: #1967D2;\n",
              "      height: 32px;\n",
              "      padding: 0 0 0 0;\n",
              "      width: 32px;\n",
              "    }\n",
              "\n",
              "    .colab-df-convert:hover {\n",
              "      background-color: #E2EBFA;\n",
              "      box-shadow: 0px 1px 2px rgba(60, 64, 67, 0.3), 0px 1px 3px 1px rgba(60, 64, 67, 0.15);\n",
              "      fill: #174EA6;\n",
              "    }\n",
              "\n",
              "    .colab-df-buttons div {\n",
              "      margin-bottom: 4px;\n",
              "    }\n",
              "\n",
              "    [theme=dark] .colab-df-convert {\n",
              "      background-color: #3B4455;\n",
              "      fill: #D2E3FC;\n",
              "    }\n",
              "\n",
              "    [theme=dark] .colab-df-convert:hover {\n",
              "      background-color: #434B5C;\n",
              "      box-shadow: 0px 1px 3px 1px rgba(0, 0, 0, 0.15);\n",
              "      filter: drop-shadow(0px 1px 2px rgba(0, 0, 0, 0.3));\n",
              "      fill: #FFFFFF;\n",
              "    }\n",
              "  </style>\n",
              "\n",
              "    <script>\n",
              "      const buttonEl =\n",
              "        document.querySelector('#df-6643685b-e90f-49bd-985a-6795007f7496 button.colab-df-convert');\n",
              "      buttonEl.style.display =\n",
              "        google.colab.kernel.accessAllowed ? 'block' : 'none';\n",
              "\n",
              "      async function convertToInteractive(key) {\n",
              "        const element = document.querySelector('#df-6643685b-e90f-49bd-985a-6795007f7496');\n",
              "        const dataTable =\n",
              "          await google.colab.kernel.invokeFunction('convertToInteractive',\n",
              "                                                    [key], {});\n",
              "        if (!dataTable) return;\n",
              "\n",
              "        const docLinkHtml = 'Like what you see? Visit the ' +\n",
              "          '<a target=\"_blank\" href=https://colab.research.google.com/notebooks/data_table.ipynb>data table notebook</a>'\n",
              "          + ' to learn more about interactive tables.';\n",
              "        element.innerHTML = '';\n",
              "        dataTable['output_type'] = 'display_data';\n",
              "        await google.colab.output.renderOutput(dataTable, element);\n",
              "        const docLink = document.createElement('div');\n",
              "        docLink.innerHTML = docLinkHtml;\n",
              "        element.appendChild(docLink);\n",
              "      }\n",
              "    </script>\n",
              "  </div>\n",
              "\n",
              "\n",
              "    <div id=\"df-088b8811-cac8-418b-b04a-4b5c1c5e23c4\">\n",
              "      <button class=\"colab-df-quickchart\" onclick=\"quickchart('df-088b8811-cac8-418b-b04a-4b5c1c5e23c4')\"\n",
              "                title=\"Suggest charts\"\n",
              "                style=\"display:none;\">\n",
              "\n",
              "<svg xmlns=\"http://www.w3.org/2000/svg\" height=\"24px\"viewBox=\"0 0 24 24\"\n",
              "     width=\"24px\">\n",
              "    <g>\n",
              "        <path d=\"M19 3H5c-1.1 0-2 .9-2 2v14c0 1.1.9 2 2 2h14c1.1 0 2-.9 2-2V5c0-1.1-.9-2-2-2zM9 17H7v-7h2v7zm4 0h-2V7h2v10zm4 0h-2v-4h2v4z\"/>\n",
              "    </g>\n",
              "</svg>\n",
              "      </button>\n",
              "\n",
              "<style>\n",
              "  .colab-df-quickchart {\n",
              "      --bg-color: #E8F0FE;\n",
              "      --fill-color: #1967D2;\n",
              "      --hover-bg-color: #E2EBFA;\n",
              "      --hover-fill-color: #174EA6;\n",
              "      --disabled-fill-color: #AAA;\n",
              "      --disabled-bg-color: #DDD;\n",
              "  }\n",
              "\n",
              "  [theme=dark] .colab-df-quickchart {\n",
              "      --bg-color: #3B4455;\n",
              "      --fill-color: #D2E3FC;\n",
              "      --hover-bg-color: #434B5C;\n",
              "      --hover-fill-color: #FFFFFF;\n",
              "      --disabled-bg-color: #3B4455;\n",
              "      --disabled-fill-color: #666;\n",
              "  }\n",
              "\n",
              "  .colab-df-quickchart {\n",
              "    background-color: var(--bg-color);\n",
              "    border: none;\n",
              "    border-radius: 50%;\n",
              "    cursor: pointer;\n",
              "    display: none;\n",
              "    fill: var(--fill-color);\n",
              "    height: 32px;\n",
              "    padding: 0;\n",
              "    width: 32px;\n",
              "  }\n",
              "\n",
              "  .colab-df-quickchart:hover {\n",
              "    background-color: var(--hover-bg-color);\n",
              "    box-shadow: 0 1px 2px rgba(60, 64, 67, 0.3), 0 1px 3px 1px rgba(60, 64, 67, 0.15);\n",
              "    fill: var(--button-hover-fill-color);\n",
              "  }\n",
              "\n",
              "  .colab-df-quickchart-complete:disabled,\n",
              "  .colab-df-quickchart-complete:disabled:hover {\n",
              "    background-color: var(--disabled-bg-color);\n",
              "    fill: var(--disabled-fill-color);\n",
              "    box-shadow: none;\n",
              "  }\n",
              "\n",
              "  .colab-df-spinner {\n",
              "    border: 2px solid var(--fill-color);\n",
              "    border-color: transparent;\n",
              "    border-bottom-color: var(--fill-color);\n",
              "    animation:\n",
              "      spin 1s steps(1) infinite;\n",
              "  }\n",
              "\n",
              "  @keyframes spin {\n",
              "    0% {\n",
              "      border-color: transparent;\n",
              "      border-bottom-color: var(--fill-color);\n",
              "      border-left-color: var(--fill-color);\n",
              "    }\n",
              "    20% {\n",
              "      border-color: transparent;\n",
              "      border-left-color: var(--fill-color);\n",
              "      border-top-color: var(--fill-color);\n",
              "    }\n",
              "    30% {\n",
              "      border-color: transparent;\n",
              "      border-left-color: var(--fill-color);\n",
              "      border-top-color: var(--fill-color);\n",
              "      border-right-color: var(--fill-color);\n",
              "    }\n",
              "    40% {\n",
              "      border-color: transparent;\n",
              "      border-right-color: var(--fill-color);\n",
              "      border-top-color: var(--fill-color);\n",
              "    }\n",
              "    60% {\n",
              "      border-color: transparent;\n",
              "      border-right-color: var(--fill-color);\n",
              "    }\n",
              "    80% {\n",
              "      border-color: transparent;\n",
              "      border-right-color: var(--fill-color);\n",
              "      border-bottom-color: var(--fill-color);\n",
              "    }\n",
              "    90% {\n",
              "      border-color: transparent;\n",
              "      border-bottom-color: var(--fill-color);\n",
              "    }\n",
              "  }\n",
              "</style>\n",
              "\n",
              "      <script>\n",
              "        async function quickchart(key) {\n",
              "          const quickchartButtonEl =\n",
              "            document.querySelector('#' + key + ' button');\n",
              "          quickchartButtonEl.disabled = true;  // To prevent multiple clicks.\n",
              "          quickchartButtonEl.classList.add('colab-df-spinner');\n",
              "          try {\n",
              "            const charts = await google.colab.kernel.invokeFunction(\n",
              "                'suggestCharts', [key], {});\n",
              "          } catch (error) {\n",
              "            console.error('Error during call to suggestCharts:', error);\n",
              "          }\n",
              "          quickchartButtonEl.classList.remove('colab-df-spinner');\n",
              "          quickchartButtonEl.classList.add('colab-df-quickchart-complete');\n",
              "        }\n",
              "        (() => {\n",
              "          let quickchartButtonEl =\n",
              "            document.querySelector('#df-088b8811-cac8-418b-b04a-4b5c1c5e23c4 button');\n",
              "          quickchartButtonEl.style.display =\n",
              "            google.colab.kernel.accessAllowed ? 'block' : 'none';\n",
              "        })();\n",
              "      </script>\n",
              "    </div>\n",
              "\n",
              "    </div>\n",
              "  </div>\n"
            ],
            "application/vnd.google.colaboratory.intrinsic+json": {
              "type": "dataframe",
              "summary": "{\n  \"name\": \"pd\",\n  \"rows\": 2783,\n  \"fields\": [\n    {\n      \"column\": \"Date\",\n      \"properties\": {\n        \"dtype\": \"object\",\n        \"num_unique_values\": 2783,\n        \"samples\": [\n          \"2014-05-28\",\n          \"2022-09-15\",\n          \"2021-09-17\"\n        ],\n        \"semantic_type\": \"\",\n        \"description\": \"\"\n      }\n    },\n    {\n      \"column\": \"Open\",\n      \"properties\": {\n        \"dtype\": \"number\",\n        \"std\": 86.17126927784766,\n        \"min\": 18.07999992370605,\n        \"max\": 381.6799926757813,\n        \"num_unique_values\": 2585,\n        \"samples\": [\n          77.1500015258789,\n          135.80999755859375,\n          78.77999877929688\n        ],\n        \"semantic_type\": \"\",\n        \"description\": \"\"\n      }\n    },\n    {\n      \"column\": \"High\",\n      \"properties\": {\n        \"dtype\": \"number\",\n        \"std\": 87.26986418570986,\n        \"min\": 18.270000457763672,\n        \"max\": 384.3299865722656,\n        \"num_unique_values\": 2590,\n        \"samples\": [\n          152.39999389648438,\n          165.0500030517578,\n          248.69000244140625\n        ],\n        \"semantic_type\": \"\",\n        \"description\": \"\"\n      }\n    },\n    {\n      \"column\": \"Low\",\n      \"properties\": {\n        \"dtype\": \"number\",\n        \"std\": 85.13985352336036,\n        \"min\": 17.549999237060547,\n        \"max\": 378.80999755859375,\n        \"num_unique_values\": 2593,\n        \"samples\": [\n          26.56999969482422,\n          328.54998779296875,\n          189.6999969482422\n        ],\n        \"semantic_type\": \"\",\n        \"description\": \"\"\n      }\n    },\n    {\n      \"column\": \"Close\",\n      \"properties\": {\n        \"dtype\": \"number\",\n        \"std\": 86.21968533914715,\n        \"min\": 17.729999542236328,\n        \"max\": 382.1799926757813,\n        \"num_unique_values\": 2627,\n        \"samples\": [\n          26.88999938964844,\n          49.04999923706055,\n          117.80999755859376\n        ],\n        \"semantic_type\": \"\",\n        \"description\": \"\"\n      }\n    },\n    {\n      \"column\": \"Volume\",\n      \"properties\": {\n        \"dtype\": \"number\",\n        \"std\": 26854501,\n        \"min\": 5913100,\n        \"max\": 573576400,\n        \"num_unique_values\": 2777,\n        \"samples\": [\n          49309200,\n          16110700,\n          22781900\n        ],\n        \"semantic_type\": \"\",\n        \"description\": \"\"\n      }\n    },\n    {\n      \"column\": \"Symbol\",\n      \"properties\": {\n        \"dtype\": \"category\",\n        \"num_unique_values\": 1,\n        \"samples\": [\n          \"META\"\n        ],\n        \"semantic_type\": \"\",\n        \"description\": \"\"\n      }\n    },\n    {\n      \"column\": \"YTD Gains\",\n      \"properties\": {\n        \"dtype\": \"number\",\n        \"std\": 2.255288683534825,\n        \"min\": -0.5362280995413482,\n        \"max\": 8.996861031963931,\n        \"num_unique_values\": 2627,\n        \"samples\": [\n          -0.2966256941766245\n        ],\n        \"semantic_type\": \"\",\n        \"description\": \"\"\n      }\n    }\n  ]\n}"
            }
          },
          "metadata": {},
          "execution_count": 8
        }
      ],
      "source": [
        "pd.read_csv(dirpath+\"/META.csv\")"
      ]
    },
    {
      "cell_type": "markdown",
      "metadata": {
        "id": "qrKacpU1_Khr"
      },
      "source": [
        "# Set up the Dataframe\n",
        "\n",
        "* convert values in the 'Date' column using pd.to_datetime(dfcolumn)\n",
        "* set the date as index using df.set_index(column, inplace = True)\n",
        "* check the first few lines of the dataframe using head()\n",
        "* what happens if you type 'print(df[(df.index.day==1) & (df.index.month==9)]). Why ?"
      ]
    },
    {
      "cell_type": "code",
      "source": [
        "df= pd.read_csv(dirpath+\"/META.csv\")\n",
        "pd.to_datetime(df['Date'])"
      ],
      "metadata": {
        "id": "qYOW9q4uwi4A",
        "colab": {
          "base_uri": "https://localhost:8080/",
          "height": 458
        },
        "outputId": "0f10b3a5-67d4-44fb-8913-9a2785e3fc9d"
      },
      "execution_count": 9,
      "outputs": [
        {
          "output_type": "execute_result",
          "data": {
            "text/plain": [
              "0      2012-05-18\n",
              "1      2012-05-21\n",
              "2      2012-05-22\n",
              "3      2012-05-23\n",
              "4      2012-05-24\n",
              "          ...    \n",
              "2778   2023-06-05\n",
              "2779   2023-06-06\n",
              "2780   2023-06-07\n",
              "2781   2023-06-08\n",
              "2782   2023-06-09\n",
              "Name: Date, Length: 2783, dtype: datetime64[ns]"
            ],
            "text/html": [
              "<div>\n",
              "<style scoped>\n",
              "    .dataframe tbody tr th:only-of-type {\n",
              "        vertical-align: middle;\n",
              "    }\n",
              "\n",
              "    .dataframe tbody tr th {\n",
              "        vertical-align: top;\n",
              "    }\n",
              "\n",
              "    .dataframe thead th {\n",
              "        text-align: right;\n",
              "    }\n",
              "</style>\n",
              "<table border=\"1\" class=\"dataframe\">\n",
              "  <thead>\n",
              "    <tr style=\"text-align: right;\">\n",
              "      <th></th>\n",
              "      <th>Date</th>\n",
              "    </tr>\n",
              "  </thead>\n",
              "  <tbody>\n",
              "    <tr>\n",
              "      <th>0</th>\n",
              "      <td>2012-05-18</td>\n",
              "    </tr>\n",
              "    <tr>\n",
              "      <th>1</th>\n",
              "      <td>2012-05-21</td>\n",
              "    </tr>\n",
              "    <tr>\n",
              "      <th>2</th>\n",
              "      <td>2012-05-22</td>\n",
              "    </tr>\n",
              "    <tr>\n",
              "      <th>3</th>\n",
              "      <td>2012-05-23</td>\n",
              "    </tr>\n",
              "    <tr>\n",
              "      <th>4</th>\n",
              "      <td>2012-05-24</td>\n",
              "    </tr>\n",
              "    <tr>\n",
              "      <th>...</th>\n",
              "      <td>...</td>\n",
              "    </tr>\n",
              "    <tr>\n",
              "      <th>2778</th>\n",
              "      <td>2023-06-05</td>\n",
              "    </tr>\n",
              "    <tr>\n",
              "      <th>2779</th>\n",
              "      <td>2023-06-06</td>\n",
              "    </tr>\n",
              "    <tr>\n",
              "      <th>2780</th>\n",
              "      <td>2023-06-07</td>\n",
              "    </tr>\n",
              "    <tr>\n",
              "      <th>2781</th>\n",
              "      <td>2023-06-08</td>\n",
              "    </tr>\n",
              "    <tr>\n",
              "      <th>2782</th>\n",
              "      <td>2023-06-09</td>\n",
              "    </tr>\n",
              "  </tbody>\n",
              "</table>\n",
              "<p>2783 rows × 1 columns</p>\n",
              "</div><br><label><b>dtype:</b> datetime64[ns]</label>"
            ]
          },
          "metadata": {},
          "execution_count": 9
        }
      ]
    },
    {
      "cell_type": "code",
      "source": [
        "df.set_index(\"Date\", inplace=True)"
      ],
      "metadata": {
        "id": "1ynH2ZtqeLjJ"
      },
      "execution_count": 10,
      "outputs": []
    },
    {
      "cell_type": "code",
      "source": [
        "df.head()"
      ],
      "metadata": {
        "id": "BZ2XkUQOepdj",
        "colab": {
          "base_uri": "https://localhost:8080/",
          "height": 238
        },
        "outputId": "16f9c4fe-6e24-4997-9312-e330c0e9f7a7"
      },
      "execution_count": 11,
      "outputs": [
        {
          "output_type": "execute_result",
          "data": {
            "text/plain": [
              "                 Open       High        Low      Close     Volume Symbol  \\\n",
              "Date                                                                       \n",
              "2012-05-18  42.049999  45.000000  38.000000  38.230000  573576400   META   \n",
              "2012-05-21  36.529999  36.660000  33.000000  34.029999  168192700   META   \n",
              "2012-05-22  32.610001  33.590000  30.940001  31.000000  101786600   META   \n",
              "2012-05-23  31.370001  32.500000  31.360001  32.000000   73600000   META   \n",
              "2012-05-24  32.950001  33.209999  31.770000  33.029999   50237200   META   \n",
              "\n",
              "            YTD Gains  \n",
              "Date                   \n",
              "2012-05-18   0.000000  \n",
              "2012-05-21  -0.109861  \n",
              "2012-05-22  -0.189118  \n",
              "2012-05-23  -0.162961  \n",
              "2012-05-24  -0.136019  "
            ],
            "text/html": [
              "\n",
              "  <div id=\"df-6203e37c-609c-41b4-91d2-6c3b1cdf31c5\" class=\"colab-df-container\">\n",
              "    <div>\n",
              "<style scoped>\n",
              "    .dataframe tbody tr th:only-of-type {\n",
              "        vertical-align: middle;\n",
              "    }\n",
              "\n",
              "    .dataframe tbody tr th {\n",
              "        vertical-align: top;\n",
              "    }\n",
              "\n",
              "    .dataframe thead th {\n",
              "        text-align: right;\n",
              "    }\n",
              "</style>\n",
              "<table border=\"1\" class=\"dataframe\">\n",
              "  <thead>\n",
              "    <tr style=\"text-align: right;\">\n",
              "      <th></th>\n",
              "      <th>Open</th>\n",
              "      <th>High</th>\n",
              "      <th>Low</th>\n",
              "      <th>Close</th>\n",
              "      <th>Volume</th>\n",
              "      <th>Symbol</th>\n",
              "      <th>YTD Gains</th>\n",
              "    </tr>\n",
              "    <tr>\n",
              "      <th>Date</th>\n",
              "      <th></th>\n",
              "      <th></th>\n",
              "      <th></th>\n",
              "      <th></th>\n",
              "      <th></th>\n",
              "      <th></th>\n",
              "      <th></th>\n",
              "    </tr>\n",
              "  </thead>\n",
              "  <tbody>\n",
              "    <tr>\n",
              "      <th>2012-05-18</th>\n",
              "      <td>42.049999</td>\n",
              "      <td>45.000000</td>\n",
              "      <td>38.000000</td>\n",
              "      <td>38.230000</td>\n",
              "      <td>573576400</td>\n",
              "      <td>META</td>\n",
              "      <td>0.000000</td>\n",
              "    </tr>\n",
              "    <tr>\n",
              "      <th>2012-05-21</th>\n",
              "      <td>36.529999</td>\n",
              "      <td>36.660000</td>\n",
              "      <td>33.000000</td>\n",
              "      <td>34.029999</td>\n",
              "      <td>168192700</td>\n",
              "      <td>META</td>\n",
              "      <td>-0.109861</td>\n",
              "    </tr>\n",
              "    <tr>\n",
              "      <th>2012-05-22</th>\n",
              "      <td>32.610001</td>\n",
              "      <td>33.590000</td>\n",
              "      <td>30.940001</td>\n",
              "      <td>31.000000</td>\n",
              "      <td>101786600</td>\n",
              "      <td>META</td>\n",
              "      <td>-0.189118</td>\n",
              "    </tr>\n",
              "    <tr>\n",
              "      <th>2012-05-23</th>\n",
              "      <td>31.370001</td>\n",
              "      <td>32.500000</td>\n",
              "      <td>31.360001</td>\n",
              "      <td>32.000000</td>\n",
              "      <td>73600000</td>\n",
              "      <td>META</td>\n",
              "      <td>-0.162961</td>\n",
              "    </tr>\n",
              "    <tr>\n",
              "      <th>2012-05-24</th>\n",
              "      <td>32.950001</td>\n",
              "      <td>33.209999</td>\n",
              "      <td>31.770000</td>\n",
              "      <td>33.029999</td>\n",
              "      <td>50237200</td>\n",
              "      <td>META</td>\n",
              "      <td>-0.136019</td>\n",
              "    </tr>\n",
              "  </tbody>\n",
              "</table>\n",
              "</div>\n",
              "    <div class=\"colab-df-buttons\">\n",
              "\n",
              "  <div class=\"colab-df-container\">\n",
              "    <button class=\"colab-df-convert\" onclick=\"convertToInteractive('df-6203e37c-609c-41b4-91d2-6c3b1cdf31c5')\"\n",
              "            title=\"Convert this dataframe to an interactive table.\"\n",
              "            style=\"display:none;\">\n",
              "\n",
              "  <svg xmlns=\"http://www.w3.org/2000/svg\" height=\"24px\" viewBox=\"0 -960 960 960\">\n",
              "    <path d=\"M120-120v-720h720v720H120Zm60-500h600v-160H180v160Zm220 220h160v-160H400v160Zm0 220h160v-160H400v160ZM180-400h160v-160H180v160Zm440 0h160v-160H620v160ZM180-180h160v-160H180v160Zm440 0h160v-160H620v160Z\"/>\n",
              "  </svg>\n",
              "    </button>\n",
              "\n",
              "  <style>\n",
              "    .colab-df-container {\n",
              "      display:flex;\n",
              "      gap: 12px;\n",
              "    }\n",
              "\n",
              "    .colab-df-convert {\n",
              "      background-color: #E8F0FE;\n",
              "      border: none;\n",
              "      border-radius: 50%;\n",
              "      cursor: pointer;\n",
              "      display: none;\n",
              "      fill: #1967D2;\n",
              "      height: 32px;\n",
              "      padding: 0 0 0 0;\n",
              "      width: 32px;\n",
              "    }\n",
              "\n",
              "    .colab-df-convert:hover {\n",
              "      background-color: #E2EBFA;\n",
              "      box-shadow: 0px 1px 2px rgba(60, 64, 67, 0.3), 0px 1px 3px 1px rgba(60, 64, 67, 0.15);\n",
              "      fill: #174EA6;\n",
              "    }\n",
              "\n",
              "    .colab-df-buttons div {\n",
              "      margin-bottom: 4px;\n",
              "    }\n",
              "\n",
              "    [theme=dark] .colab-df-convert {\n",
              "      background-color: #3B4455;\n",
              "      fill: #D2E3FC;\n",
              "    }\n",
              "\n",
              "    [theme=dark] .colab-df-convert:hover {\n",
              "      background-color: #434B5C;\n",
              "      box-shadow: 0px 1px 3px 1px rgba(0, 0, 0, 0.15);\n",
              "      filter: drop-shadow(0px 1px 2px rgba(0, 0, 0, 0.3));\n",
              "      fill: #FFFFFF;\n",
              "    }\n",
              "  </style>\n",
              "\n",
              "    <script>\n",
              "      const buttonEl =\n",
              "        document.querySelector('#df-6203e37c-609c-41b4-91d2-6c3b1cdf31c5 button.colab-df-convert');\n",
              "      buttonEl.style.display =\n",
              "        google.colab.kernel.accessAllowed ? 'block' : 'none';\n",
              "\n",
              "      async function convertToInteractive(key) {\n",
              "        const element = document.querySelector('#df-6203e37c-609c-41b4-91d2-6c3b1cdf31c5');\n",
              "        const dataTable =\n",
              "          await google.colab.kernel.invokeFunction('convertToInteractive',\n",
              "                                                    [key], {});\n",
              "        if (!dataTable) return;\n",
              "\n",
              "        const docLinkHtml = 'Like what you see? Visit the ' +\n",
              "          '<a target=\"_blank\" href=https://colab.research.google.com/notebooks/data_table.ipynb>data table notebook</a>'\n",
              "          + ' to learn more about interactive tables.';\n",
              "        element.innerHTML = '';\n",
              "        dataTable['output_type'] = 'display_data';\n",
              "        await google.colab.output.renderOutput(dataTable, element);\n",
              "        const docLink = document.createElement('div');\n",
              "        docLink.innerHTML = docLinkHtml;\n",
              "        element.appendChild(docLink);\n",
              "      }\n",
              "    </script>\n",
              "  </div>\n",
              "\n",
              "\n",
              "    <div id=\"df-f64065ed-52e5-4255-9fc2-55b4e848c24b\">\n",
              "      <button class=\"colab-df-quickchart\" onclick=\"quickchart('df-f64065ed-52e5-4255-9fc2-55b4e848c24b')\"\n",
              "                title=\"Suggest charts\"\n",
              "                style=\"display:none;\">\n",
              "\n",
              "<svg xmlns=\"http://www.w3.org/2000/svg\" height=\"24px\"viewBox=\"0 0 24 24\"\n",
              "     width=\"24px\">\n",
              "    <g>\n",
              "        <path d=\"M19 3H5c-1.1 0-2 .9-2 2v14c0 1.1.9 2 2 2h14c1.1 0 2-.9 2-2V5c0-1.1-.9-2-2-2zM9 17H7v-7h2v7zm4 0h-2V7h2v10zm4 0h-2v-4h2v4z\"/>\n",
              "    </g>\n",
              "</svg>\n",
              "      </button>\n",
              "\n",
              "<style>\n",
              "  .colab-df-quickchart {\n",
              "      --bg-color: #E8F0FE;\n",
              "      --fill-color: #1967D2;\n",
              "      --hover-bg-color: #E2EBFA;\n",
              "      --hover-fill-color: #174EA6;\n",
              "      --disabled-fill-color: #AAA;\n",
              "      --disabled-bg-color: #DDD;\n",
              "  }\n",
              "\n",
              "  [theme=dark] .colab-df-quickchart {\n",
              "      --bg-color: #3B4455;\n",
              "      --fill-color: #D2E3FC;\n",
              "      --hover-bg-color: #434B5C;\n",
              "      --hover-fill-color: #FFFFFF;\n",
              "      --disabled-bg-color: #3B4455;\n",
              "      --disabled-fill-color: #666;\n",
              "  }\n",
              "\n",
              "  .colab-df-quickchart {\n",
              "    background-color: var(--bg-color);\n",
              "    border: none;\n",
              "    border-radius: 50%;\n",
              "    cursor: pointer;\n",
              "    display: none;\n",
              "    fill: var(--fill-color);\n",
              "    height: 32px;\n",
              "    padding: 0;\n",
              "    width: 32px;\n",
              "  }\n",
              "\n",
              "  .colab-df-quickchart:hover {\n",
              "    background-color: var(--hover-bg-color);\n",
              "    box-shadow: 0 1px 2px rgba(60, 64, 67, 0.3), 0 1px 3px 1px rgba(60, 64, 67, 0.15);\n",
              "    fill: var(--button-hover-fill-color);\n",
              "  }\n",
              "\n",
              "  .colab-df-quickchart-complete:disabled,\n",
              "  .colab-df-quickchart-complete:disabled:hover {\n",
              "    background-color: var(--disabled-bg-color);\n",
              "    fill: var(--disabled-fill-color);\n",
              "    box-shadow: none;\n",
              "  }\n",
              "\n",
              "  .colab-df-spinner {\n",
              "    border: 2px solid var(--fill-color);\n",
              "    border-color: transparent;\n",
              "    border-bottom-color: var(--fill-color);\n",
              "    animation:\n",
              "      spin 1s steps(1) infinite;\n",
              "  }\n",
              "\n",
              "  @keyframes spin {\n",
              "    0% {\n",
              "      border-color: transparent;\n",
              "      border-bottom-color: var(--fill-color);\n",
              "      border-left-color: var(--fill-color);\n",
              "    }\n",
              "    20% {\n",
              "      border-color: transparent;\n",
              "      border-left-color: var(--fill-color);\n",
              "      border-top-color: var(--fill-color);\n",
              "    }\n",
              "    30% {\n",
              "      border-color: transparent;\n",
              "      border-left-color: var(--fill-color);\n",
              "      border-top-color: var(--fill-color);\n",
              "      border-right-color: var(--fill-color);\n",
              "    }\n",
              "    40% {\n",
              "      border-color: transparent;\n",
              "      border-right-color: var(--fill-color);\n",
              "      border-top-color: var(--fill-color);\n",
              "    }\n",
              "    60% {\n",
              "      border-color: transparent;\n",
              "      border-right-color: var(--fill-color);\n",
              "    }\n",
              "    80% {\n",
              "      border-color: transparent;\n",
              "      border-right-color: var(--fill-color);\n",
              "      border-bottom-color: var(--fill-color);\n",
              "    }\n",
              "    90% {\n",
              "      border-color: transparent;\n",
              "      border-bottom-color: var(--fill-color);\n",
              "    }\n",
              "  }\n",
              "</style>\n",
              "\n",
              "      <script>\n",
              "        async function quickchart(key) {\n",
              "          const quickchartButtonEl =\n",
              "            document.querySelector('#' + key + ' button');\n",
              "          quickchartButtonEl.disabled = true;  // To prevent multiple clicks.\n",
              "          quickchartButtonEl.classList.add('colab-df-spinner');\n",
              "          try {\n",
              "            const charts = await google.colab.kernel.invokeFunction(\n",
              "                'suggestCharts', [key], {});\n",
              "          } catch (error) {\n",
              "            console.error('Error during call to suggestCharts:', error);\n",
              "          }\n",
              "          quickchartButtonEl.classList.remove('colab-df-spinner');\n",
              "          quickchartButtonEl.classList.add('colab-df-quickchart-complete');\n",
              "        }\n",
              "        (() => {\n",
              "          let quickchartButtonEl =\n",
              "            document.querySelector('#df-f64065ed-52e5-4255-9fc2-55b4e848c24b button');\n",
              "          quickchartButtonEl.style.display =\n",
              "            google.colab.kernel.accessAllowed ? 'block' : 'none';\n",
              "        })();\n",
              "      </script>\n",
              "    </div>\n",
              "\n",
              "    </div>\n",
              "  </div>\n"
            ],
            "application/vnd.google.colaboratory.intrinsic+json": {
              "type": "dataframe",
              "variable_name": "df",
              "summary": "{\n  \"name\": \"df\",\n  \"rows\": 2783,\n  \"fields\": [\n    {\n      \"column\": \"Date\",\n      \"properties\": {\n        \"dtype\": \"object\",\n        \"num_unique_values\": 2783,\n        \"samples\": [\n          \"2014-05-28\",\n          \"2022-09-15\",\n          \"2021-09-17\"\n        ],\n        \"semantic_type\": \"\",\n        \"description\": \"\"\n      }\n    },\n    {\n      \"column\": \"Open\",\n      \"properties\": {\n        \"dtype\": \"number\",\n        \"std\": 86.17126927784766,\n        \"min\": 18.07999992370605,\n        \"max\": 381.6799926757813,\n        \"num_unique_values\": 2585,\n        \"samples\": [\n          77.1500015258789,\n          135.80999755859375,\n          78.77999877929688\n        ],\n        \"semantic_type\": \"\",\n        \"description\": \"\"\n      }\n    },\n    {\n      \"column\": \"High\",\n      \"properties\": {\n        \"dtype\": \"number\",\n        \"std\": 87.26986418570986,\n        \"min\": 18.270000457763672,\n        \"max\": 384.3299865722656,\n        \"num_unique_values\": 2590,\n        \"samples\": [\n          152.39999389648438,\n          165.0500030517578,\n          248.69000244140625\n        ],\n        \"semantic_type\": \"\",\n        \"description\": \"\"\n      }\n    },\n    {\n      \"column\": \"Low\",\n      \"properties\": {\n        \"dtype\": \"number\",\n        \"std\": 85.13985352336036,\n        \"min\": 17.549999237060547,\n        \"max\": 378.80999755859375,\n        \"num_unique_values\": 2593,\n        \"samples\": [\n          26.56999969482422,\n          328.54998779296875,\n          189.6999969482422\n        ],\n        \"semantic_type\": \"\",\n        \"description\": \"\"\n      }\n    },\n    {\n      \"column\": \"Close\",\n      \"properties\": {\n        \"dtype\": \"number\",\n        \"std\": 86.21968533914715,\n        \"min\": 17.729999542236328,\n        \"max\": 382.1799926757813,\n        \"num_unique_values\": 2627,\n        \"samples\": [\n          26.88999938964844,\n          49.04999923706055,\n          117.80999755859376\n        ],\n        \"semantic_type\": \"\",\n        \"description\": \"\"\n      }\n    },\n    {\n      \"column\": \"Volume\",\n      \"properties\": {\n        \"dtype\": \"number\",\n        \"std\": 26854501,\n        \"min\": 5913100,\n        \"max\": 573576400,\n        \"num_unique_values\": 2777,\n        \"samples\": [\n          49309200,\n          16110700,\n          22781900\n        ],\n        \"semantic_type\": \"\",\n        \"description\": \"\"\n      }\n    },\n    {\n      \"column\": \"Symbol\",\n      \"properties\": {\n        \"dtype\": \"category\",\n        \"num_unique_values\": 1,\n        \"samples\": [\n          \"META\"\n        ],\n        \"semantic_type\": \"\",\n        \"description\": \"\"\n      }\n    },\n    {\n      \"column\": \"YTD Gains\",\n      \"properties\": {\n        \"dtype\": \"number\",\n        \"std\": 2.255288683534825,\n        \"min\": -0.5362280995413482,\n        \"max\": 8.996861031963931,\n        \"num_unique_values\": 2627,\n        \"samples\": [\n          -0.2966256941766245\n        ],\n        \"semantic_type\": \"\",\n        \"description\": \"\"\n      }\n    }\n  ]\n}"
            }
          },
          "metadata": {},
          "execution_count": 11
        }
      ]
    },
    {
      "cell_type": "markdown",
      "metadata": {
        "id": "93ZzDIFl_Kht"
      },
      "source": [
        "# Plot the closing price\n",
        "You will start using PyPlot here, the most wellknown plotting library for Python.\n",
        "\n",
        "Have a look here for a few examples :\n",
        "\n",
        "https://matplotlib.org/stable/tutorials/pyplot.html\n",
        "\n",
        "* Use df.plot(y = ..., use_index = True) to visualize the closing price\n",
        "* Use 'plt' and 'sns' functions to improve your figure\n",
        "    * Define a size for the figure with plt.figure(figsize = (w,h)), unit is inches (typically (12,8))\n",
        "    * Use df.plot(y = ..., use_index = True) to visualize the closing price\n",
        "    * set a title with plt.title\n",
        "    * set labels with plt.xlabel and plt.ylabel\n",
        "    * set a sns style with sns.set_style(...), options are 'white', 'whitegrid', 'dark', 'darkgrid'\n",
        "    * show the plot with plt.show()"
      ]
    },
    {
      "cell_type": "code",
      "execution_count": 12,
      "metadata": {
        "id": "wcJXkSmD_Khu",
        "colab": {
          "base_uri": "https://localhost:8080/",
          "height": 472
        },
        "outputId": "4e76a8e1-5451-4700-d668-a59f745bf42e"
      },
      "outputs": [
        {
          "output_type": "display_data",
          "data": {
            "text/plain": [
              "<Figure size 640x480 with 1 Axes>"
            ],
            "image/png": "[encoded data removed]"
          },
          "metadata": {}
        }
      ],
      "source": [
        "df.plot(y='Close',use_index=True)\n",
        "plt.title('Closing Price of META shares between 2000 and 2022')\n",
        "plt.xlabel('Price in $')\n",
        "plt.ylabel('Date')\n",
        "sns.set_style('dark')\n",
        "plt.show()"
      ]
    },
    {
      "cell_type": "markdown",
      "metadata": {
        "id": "psbmhPh1_Khu"
      },
      "source": [
        "# Daily returns\n",
        "* Let's add a column to our dataset with daily returns\n",
        "    * For that, you can apply the function pct_change() to the 'Close' column\n",
        "    * Check the result using df.head()"
      ]
    },
    {
      "cell_type": "code",
      "execution_count": 13,
      "metadata": {
        "id": "b4HYmCKY_Khv",
        "colab": {
          "base_uri": "https://localhost:8080/"
        },
        "outputId": "e7267b99-0317-4b03-b84f-6aa67249525e"
      },
      "outputs": [
        {
          "output_type": "stream",
          "name": "stdout",
          "text": [
            "                 Open       High        Low      Close     Volume Symbol  \\\n",
            "Date                                                                       \n",
            "2012-05-18  42.049999  45.000000  38.000000  38.230000  573576400   META   \n",
            "2012-05-21  36.529999  36.660000  33.000000  34.029999  168192700   META   \n",
            "2012-05-22  32.610001  33.590000  30.940001  31.000000  101786600   META   \n",
            "2012-05-23  31.370001  32.500000  31.360001  32.000000   73600000   META   \n",
            "2012-05-24  32.950001  33.209999  31.770000  33.029999   50237200   META   \n",
            "\n",
            "            YTD Gains  Daily_Returns  \n",
            "Date                                  \n",
            "2012-05-18   0.000000            NaN  \n",
            "2012-05-21  -0.109861      -0.109861  \n",
            "2012-05-22  -0.189118      -0.089039  \n",
            "2012-05-23  -0.162961       0.032258  \n",
            "2012-05-24  -0.136019       0.032187  \n"
          ]
        }
      ],
      "source": [
        "# Add a column with daily returns\n",
        "df[\"Daily_Returns\"] = df[\"Close\"].pct_change()\n",
        "\n",
        "# Check the result\n",
        "print(df.head())"
      ]
    },
    {
      "cell_type": "markdown",
      "metadata": {
        "id": "s4e64dE1_Khv"
      },
      "source": [
        "# Plotting daily returns\n",
        "\n",
        "You will use Seaborn for that plot. Seaborn is a high-level and quite intuitive library.\n",
        "\n",
        "Check the following link for several plot examples :\n",
        "\n",
        "https://seaborn.pydata.org/tutorial/introduction.html\n",
        "\n",
        "* Plot the histogram of daily returns in order to check the distribution\n",
        "    * This can be done using sns.histplot(..., bins=..., kde=[True/False]). You can vary the bins number and try with or without kde.\n",
        "    * Don't forget that the first value is a NaN (not a number), you can discard it using df['Your_column'].dropna()\n",
        "    * You can remove axis if it looks more beautiful to you using sns.despine(left = True). This will remove the top, right (default) and left axis."
      ]
    },
    {
      "cell_type": "code",
      "execution_count": 14,
      "metadata": {
        "id": "15H1HCue_Khw",
        "colab": {
          "base_uri": "https://localhost:8080/",
          "height": 450
        },
        "outputId": "12bb915e-d874-40dc-8c2d-2fdcbc24ffb1"
      },
      "outputs": [
        {
          "output_type": "display_data",
          "data": {
            "text/plain": [
              "<Figure size 640x480 with 1 Axes>"
            ],
            "image/png": "[encoded data removed]"
          },
          "metadata": {}
        }
      ],
      "source": [
        "sns.histplot(df['Daily_Returns'].dropna(), bins=1000, kde=True)\n",
        "sns.despine(left=True)"
      ]
    },
    {
      "cell_type": "markdown",
      "metadata": {
        "id": "Ggp0VQ7O_Khw"
      },
      "source": [
        "# Candlestick charts\n",
        "Matplotlib also contains a library specialized for Finance, called mplfinance\n",
        "\n",
        "Have a look here for a list of tutorials :\n",
        "\n",
        "https://github.com/matplotlib/mplfinance#tutorials\n",
        "\n",
        "* A bit of preprocessing is needed on the dataframe\n",
        "    * First, filter the dataframe to only keep data from 2022 or after. In other words, you want all the rows for which df.index.year>2021. Store that in a new dataframe.\n",
        "    * Then, compute a monthly mean by applying the functions resample(...) and mean() to your new dataframe. Again, store that in a new dataframe.\n",
        "* Visualize the candlestick plot with mplfinance\n",
        "    * Import the correct library (mplfinance, usually loaded as mpf)\n",
        "    * Plot using mpf.plot(..., type = 'candle', style = '...', volume = [True|False])\n",
        "    * Try different styles, different options and see the impact on the figure"
      ]
    },
    {
      "cell_type": "code",
      "execution_count": 15,
      "metadata": {
        "id": "aGrfjoiE_Khx"
      },
      "outputs": [],
      "source": [
        "df.index = pd.to_datetime(df.index)"
      ]
    },
    {
      "cell_type": "code",
      "source": [
        "df2 = df[df.index.year > 2021]\n",
        "resampled = df2[['Open', 'High', 'Low', 'Close', 'Volume']].resample('M').mean()\n",
        "\n",
        "mpl.plot(resampled, type='candle', style='yahoo', volume=True)"
      ],
      "metadata": {
        "colab": {
          "base_uri": "https://localhost:8080/",
          "height": 578
        },
        "id": "U5FS8OBJHTNk",
        "outputId": "a9615b41-068d-4542-eff5-f46614f8f1ee"
      },
      "execution_count": 24,
      "outputs": [
        {
          "output_type": "stream",
          "name": "stderr",
          "text": [
            "/tmp/ipython-input-4247758287.py:2: FutureWarning: 'M' is deprecated and will be removed in a future version, please use 'ME' instead.\n",
            "  resampled = df2[['Open', 'High', 'Low', 'Close', 'Volume']].resample('M').mean()\n"
          ]
        },
        {
          "output_type": "display_data",
          "data": {
            "text/plain": [
              "<Figure size 800x575 with 4 Axes>"
            ],
            "image/png": "[encoded data removed]"
          },
          "metadata": {}
        }
      ]
    }
  ],
  "metadata": {
    "colab": {
      "provenance": [],
      "include_colab_link": true
    },
    "kernelspec": {
      "display_name": "Python 3",
      "language": "python",
      "name": "python3"
    },
    "language_info": {
      "codemirror_mode": {
        "name": "ipython",
        "version": 3
      },
      "file_extension": ".py",
      "mimetype": "text/x-python",
      "name": "python",
      "nbconvert_exporter": "python",
      "pygments_lexer": "ipython3",
      "version": "3.8.10"
    }
  },
  "nbformat": 4,
  "nbformat_minor": 0
}
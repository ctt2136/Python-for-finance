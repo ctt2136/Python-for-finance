{
  "nbformat": 4,
  "nbformat_minor": 0,
  "metadata": {
    "colab": {
      "provenance": [],
      "authorship_tag": "ABX9TyNUV4u2ildjSR5YJSrVL4R2",
      "include_colab_link": true
    },
    "kernelspec": {
      "name": "python3",
      "display_name": "Python 3"
    },
    "language_info": {
      "name": "python"
    }
  },
  "cells": [
    {
      "cell_type": "markdown",
      "metadata": {
        "id": "view-in-github",
        "colab_type": "text"
      },
      "source": [
        "<a href=\"https://colab.research.google.com/github/ctt2136/Python-for-finance/blob/main/LAB1.ipynb\" target=\"_parent\"><img src=\"https://colab.research.google.com/assets/colab-badge.svg\" alt=\"Open In Colab\"/></a>"
      ]
    },
    {
      "cell_type": "markdown",
      "source": [
        "# LAB 1\n"
      ],
      "metadata": {
        "id": "qwI7aB949OSr"
      }
    },
    {
      "cell_type": "markdown",
      "source": [
        "Exercise 1.\n",
        "Write a function that determines if a year (given as parameter) is a leap year or not.\n",
        "The function should return a Boolean value.\n",
        "A year is a leap year if it is divisible by 4, unless it is also divisible by 100, with the exception that a year divisible by 400 is a leap year.\n"
      ],
      "metadata": {
        "id": "YQrLYI8-8by9"
      }
    },
    {
      "cell_type": "code",
      "source": [
        "def is_leap_year( year: int)-> bool:\n",
        "  if year % 4 == 0:\n",
        "    if year % 100 == 0:\n",
        "      if year % 400 == 0:\n",
        "        return True\n",
        "      else:\n",
        "        return False\n",
        "    else:\n",
        "      return True\n",
        "  else:\n",
        "    return False"
      ],
      "metadata": {
        "id": "xNC6IqVG9JTF"
      },
      "execution_count": null,
      "outputs": []
    },
    {
      "cell_type": "markdown",
      "source": [
        "Exercise 2.\n",
        "Write a function that takes two lists of integers as parameters, representing intervals.\n",
        "The function must check that each list contains exactly 2 elements, and computes the union and the intersection of the two intervals"
      ],
      "metadata": {
        "id": "lptpTHP38w1f"
      }
    },
    {
      "cell_type": "code",
      "source": [
        "def union_intersection (list1: list, list2: list)-> tuple[list[int], list[int]]:\n",
        "  if len(list1) != 2 or len(list2) != 2:\n",
        "    raise ValueError(\"Each list must contain exactly 2 elements\")\n",
        "  LIST1= sorted(list1)\n",
        "  LIST2= sorted(list2)\n",
        "  intersection=[]\n",
        "  union=[]\n",
        "\n",
        "  # Calculate intersection\n",
        "  if LIST2[0] <= LIST1[1] and LIST1[0] <= LIST2[1]: # Check for overlap\n",
        "    intersection.append(max(LIST1[0], LIST2[0]))\n",
        "    intersection.append(min(LIST1[1], LIST2[1]))\n",
        "\n",
        "  # Calculate union\n",
        "  if LIST2[0] <= LIST1[1] + 1 and LIST1[0] <= LIST2[1] + 1: # Check for overlap or touching\n",
        "      union.append(min(LIST1[0], LIST2[0]))\n",
        "      union.append(max(LIST1[1], LIST2[1]))\n",
        "  else: # No overlap or touching\n",
        "      union = [LIST1[0], LIST1[1], LIST2[0], LIST2[1]]\n",
        "\n",
        "\n",
        "  return union, intersection"
      ],
      "metadata": {
        "id": "Zwk0mP4T9J9k"
      },
      "execution_count": null,
      "outputs": []
    },
    {
      "cell_type": "markdown",
      "source": [
        "Exercise 3.\n",
        "Write a function that determines if a number given as parameter is a perfect number.\n",
        "A perfect number is a positive integer equal to the sum of its positive proper divisors (divisors excluding the number itself).\n"
      ],
      "metadata": {
        "id": "uNbnioLR858W"
      }
    },
    {
      "cell_type": "code",
      "source": [
        "def is_perfect (n: int)-> bool:\n",
        "  if n <= 1:\n",
        "    return False\n",
        "  else:\n",
        "    s = 1  # 1 is a divisor of all integers greater than 1\n",
        "    i = 2\n",
        "    while i * i <= n:\n",
        "      if n % i == 0:\n",
        "        s += i\n",
        "        if i * i != n: # Add the other divisor\n",
        "          s += n // i\n",
        "      i += 1\n",
        "    return s == n"
      ],
      "metadata": {
        "id": "ackTGH6L9Ke_"
      },
      "execution_count": null,
      "outputs": []
    },
    {
      "cell_type": "markdown",
      "source": [
        "Exercise 4.\n",
        "Write a function that returns the min and max values of a list given as parameter.\n"
      ],
      "metadata": {
        "id": "eI8fnoIn8-mP"
      }
    },
    {
      "cell_type": "code",
      "source": [
        "def min_max (list1: list)-> tuple [int, int]:\n",
        "  if len(list1)==0:\n",
        "    return valueerror('list is empty')\n",
        "  else:\n",
        "    min_value=list1[0]\n",
        "    max_value=list1[0]\n",
        "    for i in range (len(list1)):\n",
        "      if list1[i]< min_value:\n",
        "        min_value=list1[i]\n",
        "      if list[i]> max_value:\n",
        "        max_value=list1[i]\n",
        "    return min_value, max_value"
      ],
      "metadata": {
        "id": "AEjFJp6E9LCD"
      },
      "execution_count": null,
      "outputs": []
    },
    {
      "cell_type": "markdown",
      "source": [
        "Exercise 5.\n",
        "Write a function that checks if a list given as parameter is a Fibonacci sequence."
      ],
      "metadata": {
        "id": "ZoL4BdWG9BVO"
      }
    },
    {
      "cell_type": "code",
      "source": [
        "def is_fibo(L: list)-> bool:\n",
        "  if not L: # Check for empty list\n",
        "    return False\n",
        "  if len(L) == 1: # Handle single element list\n",
        "    return L[0] == 0 or L[0] == 1 # A single element list can be Fibonacci if it's 0 or 1\n",
        "  if len(L) >= 2: # Handle lists with 2 or more elements\n",
        "    if L[0] == 0 and L[1] == 1: # Check the first two elements\n",
        "      for i in range(2, len(L)):\n",
        "        if L[i] != L[i-1] + L[i-2]:\n",
        "          return False\n",
        "      return True\n",
        "    else:\n",
        "      return False # Not a Fibonacci sequence if the first two elements are not 0 and 1"
      ],
      "metadata": {
        "id": "J50e4-kh9LeO"
      },
      "execution_count": null,
      "outputs": []
    },
    {
      "cell_type": "markdown",
      "source": [
        "Exercise 6.\n",
        "Write a function that takes as input a two-dimensional list and computes the average for each row in the list.\n",
        "The function should return a list containing the average value of each row."
      ],
      "metadata": {
        "id": "UuJfqzXo9HoN"
      }
    },
    {
      "cell_type": "code",
      "source": [
        "def aver_row(M:list[list])-> list:\n",
        "  averages = []\n",
        "  for row in M:\n",
        "    if len(row) > 0:\n",
        "      averages.append(sum(row) / len(row))\n",
        "    else:\n",
        "      averages.append(0) # Or handle empty rows as needed\n",
        "  return averages"
      ],
      "metadata": {
        "id": "4qETCYqG9L5Z"
      },
      "execution_count": null,
      "outputs": []
    }
  ]
}